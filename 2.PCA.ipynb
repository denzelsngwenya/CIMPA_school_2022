{
 "cells": [
  {
   "cell_type": "markdown",
   "id": "cc17844b",
   "metadata": {},
   "source": [
    "## Principal Component Analysis (PCA)\n",
    "\n",
    "PCA applies an orthogonal (linear) transformation to a set of possibly correlated variables in order to produce a set of uncorrelated variables called principal components (PCs). These principal components are ordered such that the first component captures the largest possible amount of the variance present in the data, the second captures the next largest amount and so forth. The principal components turn out to correspond to the eigenvectors of the data covariance matrix. \n",
    "\n",
    "As a simple example, we fit scikit-learn's `PCA` class to the well-known Iris dataset.  This data set consists of 150 observations.  Each observation consists of four length measurements of parts of an iris flower.  The observations are each associated with a class, the species of the iris flower that was measured.  There are 50 observations per class."
   ]
  },
  {
   "cell_type": "code",
   "execution_count": 5,
   "id": "e2d861c5",
   "metadata": {},
   "outputs": [],
   "source": [
    "import numpy as np\n",
    "import torch\n",
    "import torchvision\n",
    "import torchvision.transforms as transforms\n",
    "import torch.nn as nn\n",
    "\n",
    "from matplotlib import pylab as plt\n",
    "import seaborn as sns\n",
    "from ipywidgets import interact\n",
    "from sklearn.decomposition import PCA\n",
    "from torch.optim.lr_scheduler import ReduceLROnPlateau, StepLR\n",
    "from torch.utils.data import DataLoader, Subset\n",
    "from torch.distributions import Normal\n",
    "from torch.distributions.multivariate_normal import MultivariateNormal\n",
    "from tqdm import trange\n",
    "from math import pi\n",
    "from IPython.display import Image\n",
    "from types import MethodType"
   ]
  },
  {
   "cell_type": "code",
   "execution_count": 6,
   "id": "165c54db",
   "metadata": {},
   "outputs": [],
   "source": [
    "# Load iris dataset\n",
    "from sklearn.datasets import load_iris\n",
    "iris_data = load_iris()\n",
    "iris_labels = iris_data.target\n",
    "iris_data = iris_data.data\n",
    "# Center data\n",
    "iris_data = iris_data - np.mean(iris_data, axis=0)\n",
    "classes = set(iris_labels)"
   ]
  },
  {
   "cell_type": "code",
   "execution_count": 7,
   "id": "33bef977",
   "metadata": {},
   "outputs": [
    {
     "data": {
      "image/png": "[encoded data removed]",
      "text/plain": [
       "<Figure size 432x288 with 1 Axes>"
      ]
     },
     "metadata": {
      "needs_background": "light"
     },
     "output_type": "display_data"
    }
   ],
   "source": [
    "# Find the PCs\n",
    "pcaIris3 = PCA(n_components=3)\n",
    "pcaIris3.fit(iris_data)\n",
    "\n",
    "# Variance captured by each principal component\n",
    "plt.plot(pcaIris3.explained_variance_ratio_)\n",
    "plt.ylabel('Explained variance ratio')\n",
    "plt.xlabel('Principal component')\n",
    "plt.xticks([0,1,2])\n",
    "plt.show()"
   ]
  },
  {
   "cell_type": "markdown",
   "id": "1cdd271b",
   "metadata": {},
   "source": [
    "Let $U$ be the orthogonal PC projection matrix that transforms the (centered) observation $\\mathbf{x}\\in\\mathbb{R}^D$ on to the PC axes. By discarding the last columns of $U$ which correspond to PCs that capture little of the data variance, we can *encode* our data by representing it in a lower-dimensional space. Suppose we only retain the first $\\nu$ columns of $U$, denoted by $U_\\nu$, then we have\n",
    "\n",
    "$$\n",
    "\\mathbf{z} = U_\\nu^T\\mathbf{x}\n",
    "$$\n",
    "\n",
    "where $\\mathbf{z}\\in\\mathbb{R}^\\nu$. The observation $\\mathbf{x}$ can be (approximately) reconstructed from this lower-dimensional encoding by applying the following pseudo-inverse transformation (where $U_\\nu U^T_\\nu$ is diagonal, with first $\\nu$ elements equal to one and the rest equal to zero):\n",
    "\n",
    "$$\n",
    "\\hat{\\mathbf{x}} = U_\\nu\\mathbf{z}\n",
    "$$\n",
    "\n",
    "Thus we can *encode* and *decode* between an input and feature space using linear transformations. "
   ]
  },
  {
   "cell_type": "code",
   "execution_count": null,
   "id": "d94aa98e",
   "metadata": {},
   "outputs": [],
   "source": []
  }
 ],
 "metadata": {
  "kernelspec": {
   "display_name": "Python 3",
   "language": "python",
   "name": "python3"
  },
  "language_info": {
   "codemirror_mode": {
    "name": "ipython",
    "version": 3
   },
   "file_extension": ".py",
   "mimetype": "text/x-python",
   "name": "python",
   "nbconvert_exporter": "python",
   "pygments_lexer": "ipython3",
   "version": "3.8.8"
  }
 },
 "nbformat": 4,
 "nbformat_minor": 5
}
